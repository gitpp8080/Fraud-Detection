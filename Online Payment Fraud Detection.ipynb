{
 "cells": [
  {
   "cell_type": "code",
   "execution_count": 1,
   "id": "f68381a9",
   "metadata": {},
   "outputs": [],
   "source": [
    "import numpy as np \n",
    "import pandas as pd \n",
    "import matplotlib.pyplot as plt\n",
    "%matplotlib inline\n",
    "import seaborn as sns\n",
    "import scipy as sp\n",
    "from tabulate import tabulate\n",
    "import random\n",
    "import tensorflow as tf\n",
    "\n",
    "import os\n",
    "for dirname, _, filenames in os.walk('/kaggle/input'):\n",
    "    for filename in filenames:\n",
    "        print(os.path.join(dirname, filename))"
   ]
  },
  {
   "cell_type": "code",
   "execution_count": 3,
   "id": "e82d4bbb",
   "metadata": {},
   "outputs": [
    {
     "name": "stdout",
     "output_type": "stream",
     "text": [
      "<class 'pandas.core.frame.DataFrame'>\n",
      "RangeIndex: 6362620 entries, 0 to 6362619\n",
      "Data columns (total 10 columns):\n",
      " #   Column          Dtype  \n",
      "---  ------          -----  \n",
      " 0   step            int64  \n",
      " 1   type            object \n",
      " 2   amount          float64\n",
      " 3   nameOrig        object \n",
      " 4   oldbalanceOrg   float64\n",
      " 5   newbalanceOrig  float64\n",
      " 6   nameDest        object \n",
      " 7   oldbalanceDest  float64\n",
      " 8   newbalanceDest  float64\n",
      " 9   isFraud         int64  \n",
      "dtypes: float64(5), int64(2), object(3)\n",
      "memory usage: 485.4+ MB\n"
     ]
    }
   ],
   "source": [
    "df = pd.read_csv('onlinefraud.csv')\n",
    "\n",
    "df.drop('isFlaggedFraud', axis=1, inplace=True)\n",
    "\n",
    "df.info()"
   ]
  },
  {
   "cell_type": "code",
   "execution_count": 4,
   "id": "7f985c1a",
   "metadata": {},
   "outputs": [
    {
     "data": {
      "text/html": [
       "<div>\n",
       "<style scoped>\n",
       "    .dataframe tbody tr th:only-of-type {\n",
       "        vertical-align: middle;\n",
       "    }\n",
       "\n",
       "    .dataframe tbody tr th {\n",
       "        vertical-align: top;\n",
       "    }\n",
       "\n",
       "    .dataframe thead th {\n",
       "        text-align: right;\n",
       "    }\n",
       "</style>\n",
       "<table border=\"1\" class=\"dataframe\">\n",
       "  <thead>\n",
       "    <tr style=\"text-align: right;\">\n",
       "      <th></th>\n",
       "      <th>step</th>\n",
       "      <th>type</th>\n",
       "      <th>amount</th>\n",
       "      <th>nameOrig</th>\n",
       "      <th>oldbalanceOrg</th>\n",
       "      <th>newbalanceOrig</th>\n",
       "      <th>nameDest</th>\n",
       "      <th>oldbalanceDest</th>\n",
       "      <th>newbalanceDest</th>\n",
       "      <th>isFraud</th>\n",
       "    </tr>\n",
       "  </thead>\n",
       "  <tbody>\n",
       "    <tr>\n",
       "      <th>5020382</th>\n",
       "      <td>353</td>\n",
       "      <td>PAYMENT</td>\n",
       "      <td>4546.41</td>\n",
       "      <td>C1325896840</td>\n",
       "      <td>1781.72</td>\n",
       "      <td>0.00</td>\n",
       "      <td>M419704855</td>\n",
       "      <td>0.00</td>\n",
       "      <td>0.00</td>\n",
       "      <td>0</td>\n",
       "    </tr>\n",
       "    <tr>\n",
       "      <th>1069886</th>\n",
       "      <td>122</td>\n",
       "      <td>CASH_IN</td>\n",
       "      <td>162470.29</td>\n",
       "      <td>C771202494</td>\n",
       "      <td>4261711.09</td>\n",
       "      <td>4424181.38</td>\n",
       "      <td>C1594657536</td>\n",
       "      <td>400604.56</td>\n",
       "      <td>238134.27</td>\n",
       "      <td>0</td>\n",
       "    </tr>\n",
       "    <tr>\n",
       "      <th>1226494</th>\n",
       "      <td>133</td>\n",
       "      <td>CASH_OUT</td>\n",
       "      <td>171498.79</td>\n",
       "      <td>C778898570</td>\n",
       "      <td>0.00</td>\n",
       "      <td>0.00</td>\n",
       "      <td>C1579497902</td>\n",
       "      <td>228283.15</td>\n",
       "      <td>399781.94</td>\n",
       "      <td>0</td>\n",
       "    </tr>\n",
       "    <tr>\n",
       "      <th>1543977</th>\n",
       "      <td>154</td>\n",
       "      <td>TRANSFER</td>\n",
       "      <td>292052.87</td>\n",
       "      <td>C217221027</td>\n",
       "      <td>35974.00</td>\n",
       "      <td>0.00</td>\n",
       "      <td>C1547918833</td>\n",
       "      <td>317070.03</td>\n",
       "      <td>609122.90</td>\n",
       "      <td>0</td>\n",
       "    </tr>\n",
       "    <tr>\n",
       "      <th>1162714</th>\n",
       "      <td>132</td>\n",
       "      <td>CASH_OUT</td>\n",
       "      <td>276140.57</td>\n",
       "      <td>C1117076237</td>\n",
       "      <td>79904.00</td>\n",
       "      <td>0.00</td>\n",
       "      <td>C1637991362</td>\n",
       "      <td>265833.58</td>\n",
       "      <td>541974.15</td>\n",
       "      <td>0</td>\n",
       "    </tr>\n",
       "  </tbody>\n",
       "</table>\n",
       "</div>"
      ],
      "text/plain": [
       "         step      type     amount     nameOrig  oldbalanceOrg  \\\n",
       "5020382   353   PAYMENT    4546.41  C1325896840        1781.72   \n",
       "1069886   122   CASH_IN  162470.29   C771202494     4261711.09   \n",
       "1226494   133  CASH_OUT  171498.79   C778898570           0.00   \n",
       "1543977   154  TRANSFER  292052.87   C217221027       35974.00   \n",
       "1162714   132  CASH_OUT  276140.57  C1117076237       79904.00   \n",
       "\n",
       "         newbalanceOrig     nameDest  oldbalanceDest  newbalanceDest  isFraud  \n",
       "5020382            0.00   M419704855            0.00            0.00        0  \n",
       "1069886      4424181.38  C1594657536       400604.56       238134.27        0  \n",
       "1226494            0.00  C1579497902       228283.15       399781.94        0  \n",
       "1543977            0.00  C1547918833       317070.03       609122.90        0  \n",
       "1162714            0.00  C1637991362       265833.58       541974.15        0  "
      ]
     },
     "execution_count": 4,
     "metadata": {},
     "output_type": "execute_result"
    }
   ],
   "source": [
    "df.sample(5)"
   ]
  },
  {
   "cell_type": "code",
   "execution_count": 5,
   "id": "8669d1f1",
   "metadata": {},
   "outputs": [
    {
     "data": {
      "text/plain": [
       "step              0\n",
       "type              0\n",
       "amount            0\n",
       "nameOrig          0\n",
       "oldbalanceOrg     0\n",
       "newbalanceOrig    0\n",
       "nameDest          0\n",
       "oldbalanceDest    0\n",
       "newbalanceDest    0\n",
       "isFraud           0\n",
       "dtype: int64"
      ]
     },
     "execution_count": 5,
     "metadata": {},
     "output_type": "execute_result"
    }
   ],
   "source": [
    "df.isnull().sum()"
   ]
  },
  {
   "cell_type": "code",
   "execution_count": 6,
   "id": "24a2596f",
   "metadata": {},
   "outputs": [
    {
     "name": "stdout",
     "output_type": "stream",
     "text": [
      "|    | columns        |   min value |   max value |\n",
      "|----|----------------|-------------|-------------|\n",
      "|  0 | amount         |           0 | 9.24455e+07 |\n",
      "|  1 | oldbalanceOrg  |           0 |  5.9585e+07 |\n",
      "|  2 | newbalanceOrig |           0 |  4.9585e+07 |\n",
      "|  3 | oldbalanceDest |           0 | 3.56016e+08 |\n",
      "|  4 | isFraud        |           0 |           1 |\n"
     ]
    }
   ],
   "source": [
    "fraud_min_max = [\n",
    "    ['amount', df.amount.min(), df.amount.max()],\n",
    "    ['oldbalanceOrg', df.oldbalanceOrg.min(), df.oldbalanceOrg.max()],\n",
    "    ['newbalanceOrig', df.newbalanceOrig.min(), df.newbalanceOrig.max()],\n",
    "    ['oldbalanceDest', df.oldbalanceDest.min(), df.oldbalanceDest.max()],\n",
    "    ['isFraud', df.isFraud.min(), df.isFraud.max()]\n",
    "] \n",
    "\n",
    "print(\n",
    "    tabulate(\n",
    "        fraud_min_max,\n",
    "        headers=['columns', 'min value', 'max value'],\n",
    "        showindex=True,\n",
    "        tablefmt='github',\n",
    "        numalign='right'\n",
    "    )\n",
    ")"
   ]
  },
  {
   "cell_type": "code",
   "execution_count": 7,
   "id": "d53e69af",
   "metadata": {},
   "outputs": [],
   "source": [
    "# Downcast numerical columns with smaller dtype\n",
    "for col in df.columns:\n",
    "    if df[col].dtype == 'float64':\n",
    "        df[col] = pd.to_numeric(df[col], downcast='float')\n",
    "    if df[col].dtype == 'int64':\n",
    "        df[col] = pd.to_numeric(df[col], downcast='unsigned')\n",
    "\n",
    "# Use category dtype for categorical column\n",
    "df['type'] = df['type'].astype('category')"
   ]
  },
  {
   "cell_type": "code",
   "execution_count": 8,
   "id": "16120f7d",
   "metadata": {},
   "outputs": [
    {
     "data": {
      "text/plain": [
       "0"
      ]
     },
     "execution_count": 8,
     "metadata": {},
     "output_type": "execute_result"
    }
   ],
   "source": [
    "# Check duplicate values\n",
    "df.duplicated().sum()"
   ]
  },
  {
   "cell_type": "code",
   "execution_count": 9,
   "id": "6360ce64",
   "metadata": {},
   "outputs": [],
   "source": [
    "sns.set_style('whitegrid')\n",
    "plt.rcParams['figure.figsize'] = (8,6)"
   ]
  },
  {
   "cell_type": "code",
   "execution_count": null,
   "id": "ebe899c5",
   "metadata": {},
   "outputs": [],
   "source": [
    "df['step'].value_counts()"
   ]
  },
  {
   "cell_type": "code",
   "execution_count": 10,
   "id": "9513237c",
   "metadata": {},
   "outputs": [
    {
     "name": "stderr",
     "output_type": "stream",
     "text": [
      "No artists with labels found to put in legend.  Note that artists whose label start with an underscore are ignored when legend() is called with no argument.\n"
     ]
    },
    {
     "data": {
      "text/plain": [
       "Text(0, 0.5, 'Number of transactions')"
      ]
     },
     "execution_count": 10,
     "metadata": {},
     "output_type": "execute_result"
    },
    {
     "data": {
      "image/png": "[encoded data removed]",
      "text/plain": [
       "<Figure size 800x600 with 1 Axes>"
      ]
     },
     "metadata": {},
     "output_type": "display_data"
    }
   ],
   "source": [
    "ax = sns.countplot(x='type', data=df, palette='PuBu')\n",
    "for container in ax.containers:\n",
    "    ax.bar_label(container)\n",
    "plt.title('Count plot of transaction type')\n",
    "plt.legend(bbox_to_anchor=(1.05,1), loc='upper left')\n",
    "plt.ylabel('Number of transactions')"
   ]
  },
  {
   "cell_type": "code",
   "execution_count": 11,
   "id": "ff5b0ce3",
   "metadata": {},
   "outputs": [
    {
     "data": {
      "text/plain": [
       "Text(0.5, 1.0, 'Distribution of transaction amount')"
      ]
     },
     "execution_count": 11,
     "metadata": {},
     "output_type": "execute_result"
    },
    {
     "data": {
      "image/png": "[encoded data removed]",
      "text/plain": [
       "<Figure size 800x600 with 1 Axes>"
      ]
     },
     "metadata": {},
     "output_type": "display_data"
    }
   ],
   "source": [
    "sns.kdeplot(df['amount'], linewidth=4)\n",
    "plt.title('Distribution of transaction amount')"
   ]
  },
  {
   "cell_type": "code",
   "execution_count": 12,
   "id": "1cd9debb",
   "metadata": {},
   "outputs": [
    {
     "data": {
      "text/plain": [
       "C1902386530    3\n",
       "C363736674     3\n",
       "C545315117     3\n",
       "C724452879     3\n",
       "C1784010646    3\n",
       "              ..\n",
       "C98968405      1\n",
       "C720209255     1\n",
       "C1567523029    1\n",
       "C644777639     1\n",
       "C1280323807    1\n",
       "Name: nameOrig, Length: 6353307, dtype: int64"
      ]
     },
     "execution_count": 12,
     "metadata": {},
     "output_type": "execute_result"
    }
   ],
   "source": [
    "df['nameOrig'].value_counts()"
   ]
  },
  {
   "cell_type": "code",
   "execution_count": 13,
   "id": "c12352f6",
   "metadata": {},
   "outputs": [
    {
     "data": {
      "text/plain": [
       "Text(0.5, 1.0, 'Distribution of transaction amount')"
      ]
     },
     "execution_count": 13,
     "metadata": {},
     "output_type": "execute_result"
    },
    {
     "data": {
      "image/png": "[encoded data removed]",
      "text/plain": [
       "<Figure size 800x600 with 1 Axes>"
      ]
     },
     "metadata": {},
     "output_type": "display_data"
    }
   ],
   "source": [
    "sns.kdeplot(df['oldbalanceOrg'], linewidth=4)\n",
    "plt.title('Distribution of transaction amount')"
   ]
  },
  {
   "cell_type": "code",
   "execution_count": 14,
   "id": "0f5c42c3",
   "metadata": {},
   "outputs": [
    {
     "data": {
      "text/plain": [
       "Text(0.5, 1.0, 'Distribution of transaction amount')"
      ]
     },
     "execution_count": 14,
     "metadata": {},
     "output_type": "execute_result"
    },
    {
     "data": {
      "image/png": "[encoded data removed]",
      "text/plain": [
       "<Figure size 800x600 with 1 Axes>"
      ]
     },
     "metadata": {},
     "output_type": "display_data"
    }
   ],
   "source": [
    "sns.kdeplot(df['newbalanceOrig'], linewidth=4)\n",
    "plt.title('Distribution of transaction amount')\n"
   ]
  },
  {
   "cell_type": "code",
   "execution_count": 15,
   "id": "2a698fba",
   "metadata": {},
   "outputs": [
    {
     "data": {
      "text/plain": [
       "C1286084959    113\n",
       "C985934102     109\n",
       "C665576141     105\n",
       "C2083562754    102\n",
       "C248609774     101\n",
       "              ... \n",
       "M1470027725      1\n",
       "M1330329251      1\n",
       "M1784358659      1\n",
       "M2081431099      1\n",
       "C2080388513      1\n",
       "Name: nameDest, Length: 2722362, dtype: int64"
      ]
     },
     "execution_count": 15,
     "metadata": {},
     "output_type": "execute_result"
    }
   ],
   "source": [
    "df['nameDest'].value_counts()"
   ]
  },
  {
   "cell_type": "code",
   "execution_count": null,
   "id": "17e15551",
   "metadata": {},
   "outputs": [],
   "source": [
    "sns.kdeplot(df['oldbalanceDest'], linewidth=4)\n",
    "plt.title('Distribution of transaction amount')"
   ]
  },
  {
   "cell_type": "code",
   "execution_count": null,
   "id": "bb44c48a",
   "metadata": {},
   "outputs": [],
   "source": [
    "sns.kdeplot(df['newbalanceDest'], linewidth=4)\n",
    "plt.title('Distribution of transaction amount')"
   ]
  },
  {
   "cell_type": "code",
   "execution_count": null,
   "id": "348c1d83",
   "metadata": {},
   "outputs": [],
   "source": [
    "ax = sns.countplot(x='isFraud', data=df, palette='PuBu')\n",
    "for container in ax.containers:\n",
    "    ax.bar_label(container)\n",
    "plt.title('Count plot of fraud transaction')\n",
    "plt.ylabel('Number of transactions')\n",
    "\n",
    "del ax"
   ]
  },
  {
   "cell_type": "code",
   "execution_count": null,
   "id": "3ab1e5df",
   "metadata": {},
   "outputs": [],
   "source": [
    "fig, ax = plt.subplots(1,2,figsize=(20,5))\n",
    "\n",
    "sns.countplot(x='type', data=df, hue='isFraud', palette='PuBu', ax=ax[0])\n",
    "for container in ax[0].containers:\n",
    "    ax[0].bar_label(container)\n",
    "ax[0].set_title('Count plot of transaction type')\n",
    "ax[0].legend(loc='best')\n",
    "ax[0].set_ylabel('Number of transactions')\n",
    "\n",
    "df2 = df.groupby(['type', 'isFraud']).size().unstack()\n",
    "df2.apply(lambda x : round(x/sum(x)*100, 2), axis=1).plot(kind='barh', stacked=True, color=['lightsteelblue', 'steelblue'], ax=ax[1])\n",
    "for container in ax[1].containers:\n",
    "    ax[1].bar_label(container, label_type='center')\n",
    "ax[1].set_title('Count plot of transaction type')\n",
    "ax[1].legend(bbox_to_anchor=(1.05,1), loc='upper left')\n",
    "ax[1].set_ylabel('Number of transactions')\n",
    "ax[1].grid(axis='y')"
   ]
  },
  {
   "cell_type": "code",
   "execution_count": null,
   "id": "df51f808",
   "metadata": {},
   "outputs": [],
   "source": [
    "df['quantity'] = pd.cut(df['amount'], 5, labels=['very low', 'low', 'moderate', 'high', 'very high'])\n",
    "\n",
    "ax = sns.countplot(x='quantity', data=df, hue='isFraud', palette='PuBu')\n",
    "for container in ax.containers:\n",
    "    ax.bar_label(container)\n",
    "plt.title('Count plot of amount quantity')\n",
    "plt.legend(bbox_to_anchor=(1.05,1), loc='upper left')\n",
    "plt.ylabel('Number of transactions')"
   ]
  },
  {
   "cell_type": "code",
   "execution_count": null,
   "id": "895086e0",
   "metadata": {},
   "outputs": [],
   "source": [
    "df1 = df[df['isFraud']==1]\n",
    "df2 = df1['step'].value_counts().head(10)\n",
    "ax = df2.plot(kind='bar', color='lightsteelblue')\n",
    "for container in ax.containers:\n",
    "    ax.bar_label(container)\n",
    "plt.title('Top 10 steps that often lead to fraudulent transactions')\n",
    "plt.ylabel('Number of fraudulent transactions')\n",
    "plt.xlabel('Step')\n",
    "plt.grid(axis='x')\n",
    "\n",
    "del ax, df2"
   ]
  },
  {
   "cell_type": "code",
   "execution_count": null,
   "id": "7bab2fd3",
   "metadata": {},
   "outputs": [],
   "source": [
    "df['oldbalanceOrg_amt'] = pd.cut(df['oldbalanceOrg'], 5, labels=['very low', 'low', 'moderate', 'high', 'very high'])\n",
    "\n",
    "ax = sns.countplot(x='oldbalanceOrg_amt', data=df, hue='isFraud', palette='PuBu')\n",
    "for container in ax.containers:\n",
    "    ax.bar_label(container)\n",
    "plt.title('Count plot of initial customers pre-transaction balance amount')\n",
    "plt.legend(bbox_to_anchor=(1.05,1), loc='upper left')\n",
    "plt.ylabel('Number of transactions')\n",
    "plt.xlabel('Initial customers pre-transaction balance amount')"
   ]
  },
  {
   "cell_type": "code",
   "execution_count": null,
   "id": "6094a9a3",
   "metadata": {},
   "outputs": [],
   "source": [
    "df2 = df1['nameOrig'].value_counts().head(10)\n",
    "ax = df2.plot(kind='bar', color='lightsteelblue')\n",
    "for container in ax.containers:\n",
    "    ax.bar_label(container)\n",
    "plt.title('Top 10 initial customers fall for a fraudulent transactions')\n",
    "plt.ylabel('Number of fraudulent transactions')\n",
    "plt.xlabel('Initial customers')\n",
    "plt.grid(axis='x')\n",
    "\n",
    "del ax, df2"
   ]
  },
  {
   "cell_type": "code",
   "execution_count": null,
   "id": "98ab925d",
   "metadata": {},
   "outputs": [],
   "source": [
    "df2 = df1['nameDest'].value_counts().head(10)\n",
    "ax = df2.plot(kind='bar', color='lightsteelblue')\n",
    "for container in ax.containers:\n",
    "    ax.bar_label(container)\n",
    "plt.title('Top 10 recipients highly involved in fraudulent transactions')\n",
    "plt.ylabel('Number of fraudulent transactions')\n",
    "plt.xlabel('Recipients')\n",
    "plt.grid(axis='x')\n",
    "\n",
    "del ax, df2"
   ]
  },
  {
   "cell_type": "code",
   "execution_count": null,
   "id": "9d55cd32",
   "metadata": {},
   "outputs": [],
   "source": [
    "df['oldbalanceDest_amt'] = pd.cut(df['oldbalanceDest'], 5, labels=['very low', 'low', 'moderate', 'high', 'very high'])\n",
    "\n",
    "ax = sns.countplot(x='oldbalanceDest_amt', data=df, hue='isFraud', palette='PuBu')\n",
    "for container in ax.containers:\n",
    "    ax.bar_label(container)\n",
    "plt.title('Count plot of recipients pre-transaction balance amount')\n",
    "plt.legend(bbox_to_anchor=(1.05,1), loc='upper left')\n",
    "plt.ylabel('Number of transactions')\n",
    "plt.xlabel('Recipient pre-transaction balance amount')"
   ]
  },
  {
   "cell_type": "code",
   "execution_count": null,
   "id": "1edf71bc",
   "metadata": {},
   "outputs": [],
   "source": [
    "corr_matrix = df.corr('spearman')\n",
    "sns.heatmap(corr_matrix, cbar=True, annot=True, mask = np.triu(np.ones_like(corr_matrix, dtype = bool)), fmt='.3f', cmap='PuBu')\n",
    "plt.title('Correlation')"
   ]
  },
  {
   "cell_type": "code",
   "execution_count": null,
   "id": "9be717fd",
   "metadata": {},
   "outputs": [],
   "source": [
    "# Data preprocessing\n",
    "df['type'] = df['type'].map({'PAYMENT':0, 'CASH_IN':1, 'DEBIT':2, 'CASH_OUT':3, 'TRANSFER':4})"
   ]
  },
  {
   "cell_type": "code",
   "execution_count": null,
   "id": "58694e27",
   "metadata": {},
   "outputs": [],
   "source": [
    "from sklearn.model_selection import StratifiedKFold\n",
    "from sklearn.preprocessing import StandardScaler\n",
    "from sklearn.ensemble import RandomForestClassifier\n",
    "from sklearn.linear_model import LogisticRegression\n",
    "from imblearn.under_sampling import RandomUnderSampler\n",
    "from sklearn.model_selection import cross_val_score\n",
    "from sklearn.metrics import classification_report, roc_curve, auc, ConfusionMatrixDisplay\n",
    "\n",
    "\n",
    "seed = 42\n",
    "np.random.seed(seed)\n",
    "random.seed(seed)\n",
    "tf.random.set_seed(seed)\n",
    "\n",
    "\n",
    "X = df.copy()\n",
    "X.drop(['nameOrig', 'newbalanceOrig', 'nameDest', 'newbalanceDest', 'quantity', 'oldbalanceOrg_amt', 'oldbalanceDest_amt'], axis=1, inplace=True)\n",
    "y = X.pop('isFraud')\n",
    "\n",
    "\n",
    "# Stratified train-test split\n",
    "skfold = StratifiedKFold(n_splits=5, shuffle=True, random_state=seed)\n",
    "for train_idx, test_idx in skfold.split(X,y):\n",
    "    X_train, X_test = X.iloc[train_idx], X.iloc[test_idx]\n",
    "    y_train, y_test = y.iloc[train_idx], y.iloc[test_idx]\n",
    "\n",
    "\n",
    "sc = StandardScaler()\n",
    "scaled_train = sc.fit_transform(X_train)\n",
    "scaled_test = sc.transform(X_test)\n",
    "X_train = pd.DataFrame(scaled_train, index=X_train.index, columns=X_train.columns)\n",
    "X_test = pd.DataFrame(scaled_test, index=X_test.index, columns=X_test.columns)\n",
    "\n",
    "\n",
    "X_train, y_train = RandomUnderSampler(sampling_strategy='majority').fit_resample(X_train, y_train)"
   ]
  },
  {
   "cell_type": "code",
   "execution_count": null,
   "id": "3a61314a",
   "metadata": {},
   "outputs": [],
   "source": [
    "def model_comparison_evaluate(classifiers, X, y):\n",
    "    print('K-Fold Cross-Validation:\\n')\n",
    "    for name, model in classifiers.items():\n",
    "        print('{}:'.format(name))\n",
    "        \n",
    "        scoring = ['accuracy', 'precision', 'recall', 'f1', 'roc_auc']\n",
    "        \n",
    "        for score in scoring:\n",
    "            scores = cross_val_score(model, X, y, scoring=score, cv=skfold, n_jobs=-1)\n",
    "            print('Mean {} score: {:.3f} ({:.3f})'.format(score, scores.mean(), scores.std()))\n",
    "            \n",
    "        print('\\n')"
   ]
  },
  {
   "cell_type": "code",
   "execution_count": null,
   "id": "8ba54772",
   "metadata": {},
   "outputs": [],
   "source": [
    "classifiers = { 'Random Forest Classifier':RandomForestClassifier(class_weight='balanced', random_state=seed),\n",
    "                'Logistic Regression': LogisticRegression(class_weight='balanced', random_state=seed)\n",
    "              }"
   ]
  },
  {
   "cell_type": "code",
   "execution_count": null,
   "id": "329ac530",
   "metadata": {},
   "outputs": [],
   "source": [
    "model_comparison_evaluate(classifiers, X_train, y_train)"
   ]
  },
  {
   "cell_type": "code",
   "execution_count": null,
   "id": "60052425",
   "metadata": {},
   "outputs": [],
   "source": [
    "model = RandomForestClassifier(class_weight='balanced', random_state=seed)\n",
    "model.fit(X_train, y_train)\n",
    "y_pred = model.predict(X_test)\n",
    "y_pred_score = model.predict_proba(X_test)[:,1]\n",
    "print('Random Forest Classifier:')\n",
    "print(classification_report(y_pred, y_test, labels=[0,1], target_names=['Non-Fraud [0]', 'Fraud [1]']), '\\n')\n",
    "\n",
    "\n",
    "\n",
    "fig, ax = plt.subplots(1, 2, figsize=(20,5))\n",
    "ax[0].set_title('Confusion Matrix of Random Forest Model:')\n",
    "ConfusionMatrixDisplay.from_predictions(y_test, y_pred, colorbar=False, values_format='', cmap='crest', ax=ax[0])\n",
    "ax[0].grid(False)\n",
    "\n",
    "\n",
    "\n",
    "fpr, tpr, thresholds = roc_curve(y_test, y_pred_score)\n",
    "roc_auc = auc(fpr, tpr)                       \n",
    "ax[1].set_title('ROC Curve - Random Forest Classifier')\n",
    "ax[1].plot(fpr, tpr, label = 'AUC = %0.3f' % roc_auc, c='steelblue')\n",
    "ax[1].plot([0,1],[0,1],'--', c='lightsteelblue')\n",
    "ax[1].legend(loc='lower right')\n",
    "ax[1].set_ylabel('True Positive Rate')\n",
    "ax[1].set_xlabel('False Positive Rate')"
   ]
  },
  {
   "cell_type": "code",
   "execution_count": null,
   "id": "73fe382b",
   "metadata": {},
   "outputs": [],
   "source": []
  }
 ],
 "metadata": {
  "kernelspec": {
   "display_name": "Python 3 (ipykernel)",
   "language": "python",
   "name": "python3"
  },
  "language_info": {
   "codemirror_mode": {
    "name": "ipython",
    "version": 3
   },
   "file_extension": ".py",
   "mimetype": "text/x-python",
   "name": "python",
   "nbconvert_exporter": "python",
   "pygments_lexer": "ipython3",
   "version": "3.11.3"
  }
 },
 "nbformat": 4,
 "nbformat_minor": 5
}
